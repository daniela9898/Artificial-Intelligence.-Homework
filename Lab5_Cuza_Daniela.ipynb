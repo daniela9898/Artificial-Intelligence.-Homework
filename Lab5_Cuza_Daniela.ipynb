{
 "cells": [
  {
   "cell_type": "markdown",
   "metadata": {
    "deletable": false,
    "editable": false
   },
   "source": [
    "<div class=\"alert alert-block alert-success\">\n",
    "    <b>ARTIFICIAL INTELLIGENCE (E016330)</b> <br>\n",
    "ALEKSANDRA PIZURICA <br>\n",
    "GHENT UNIVERSITY <br>\n",
    "AY 2022/2023 <br>\n",
    "Assistent: Srdan Lazendic\n",
    "</div>"
   ]
  },
  {
   "cell_type": "markdown",
   "metadata": {},
   "source": [
    "# Lab assignment 5: CNNs and Autoencoders"
   ]
  },
  {
   "cell_type": "markdown",
   "metadata": {},
   "source": [
    "In this assignment we will first train a CNN for the classification problem and then an autoencoderencoder that learns representations of images of the `fashion_mnist` dataset. Finally, you will create a simple image retrieval system by using the trained autoencoder and the nearest-neighbors algorithm."
   ]
  },
  {
   "cell_type": "markdown",
   "metadata": {},
   "source": [
    "### Dataset `Fashion MNIST`\n",
    "\n",
    "This examples uses [Fashion MNIST](https://github.com/zalandoresearch/fashion-mnist) dataset which contains 70,000 grayscale images split into 10 categories. Each image contains one peace of clothing or footwear. \n",
    "Resolution of each image is $28 \\times 28$ pixels.\n",
    "\n",
    "<table>\n",
    "  <tr><td>\n",
    "    <img src=\"https://tensorflow.org/images/fashion-mnist-sprite.png\"\n",
    "         alt=\"Fashion MNIST sprite\"  width=\"600\">\n",
    "  </td></tr>\n",
    "  <tr><td align=\"center\">\n",
    "    <b>Image 1.</b> <a href=\"https://github.com/zalandoresearch/fashion-mnist\">Fashion-MNIST examples</a> (by Zalando, MIT License).<br/>&nbsp;\n",
    "  </td></tr>\n",
    "</table>\n",
    "\n",
    "Fashion MNIST is intended as a replacement for the traditional [MNIST](http://yann.lecun.com/exdb/mnist/) dataset that was previously often used as the first illustrative data set for classification (with images). `MNIST` contains images of handwritten numbers in a very similar format as previously described for `Fashion MNIST`.\n",
    "\n",
    "Fashion `MNIST` is a somewhat heavier set of data compared to `MNIST`, but both sets are extremely clean (no noise, deviations in the corners of the photo, relatively similar lighting), and solving the classification problem on them is not difficult.\n",
    "\n",
    "In this example, we will use $40000$ images to train the network, $20000$ images for the validation and the other $10000$ images to evaluate how accurately our network has classified the images.\n",
    "\n",
    "Since `Fashion MNIST` is a relatively well-known set that is often used, it is not uncommon for libraries to provide auxiliary functions for its download and use."
   ]
  },
  {
   "cell_type": "code",
   "execution_count": 67,
   "metadata": {},
   "outputs": [],
   "source": [
    "import numpy as np\n",
    "from matplotlib import pyplot as plt\n",
    "\n",
    "from sklearn import metrics\n",
    "\n",
    "import tensorflow as tf\n",
    "from tensorflow import keras\n",
    "\n",
    "from tensorflow.keras.datasets import fashion_mnist\n",
    "\n",
    "from tensorflow.keras import layers\n",
    "from tensorflow.keras.layers import Activation, Dense, Input\n",
    "from tensorflow.keras.layers import Conv2D, Flatten, MaxPool2D, UpSampling2D, Conv2DTranspose, Reshape,UpSampling3D,ZeroPadding2D\n",
    "from tensorflow.keras.models import Sequential\n",
    "from tensorflow.keras.models import Model\n",
    "from tensorflow.keras import backend as K"
   ]
  },
  {
   "cell_type": "markdown",
   "metadata": {},
   "source": [
    "**Question 1:** Using the `load_data` function from the `fashion_mnist` package, load images for the training set and the test set."
   ]
  },
  {
   "cell_type": "code",
   "execution_count": 68,
   "metadata": {},
   "outputs": [],
   "source": [
    "(x_train, y_train), (x_test, y_test) = fashion_mnist.load_data()"
   ]
  },
  {
   "cell_type": "code",
   "execution_count": null,
   "metadata": {},
   "outputs": [],
   "source": []
  },
  {
   "cell_type": "code",
   "execution_count": 69,
   "metadata": {},
   "outputs": [
    {
     "name": "stdout",
     "output_type": "stream",
     "text": [
      "['T-shirt/top', 'Trouser', 'Pullover', 'Dress', 'Coat', 'Sandal', 'Shirt', 'Sneaker', 'Bag', 'Ankle boot']\n"
     ]
    }
   ],
   "source": [
    "class_names = ['T-shirt/top', 'Trouser', 'Pullover', 'Dress', 'Coat',\n",
    "               'Sandal', 'Shirt', 'Sneaker', 'Bag', 'Ankle boot']\n",
    "num_classes = len(class_names)\n",
    "print(class_names)"
   ]
  },
  {
   "cell_type": "markdown",
   "metadata": {},
   "source": [
    "**Question 2:** Select the first $40000$ images from the loaded set for training, and then the next $20000$ for validation."
   ]
  },
  {
   "cell_type": "code",
   "execution_count": 70,
   "metadata": {},
   "outputs": [],
   "source": [
    "x_train_2 = x_train[:40000]\n",
    "y_train_2= y_train[:40000]\n",
    "x_val = x_train[40000:60000]\n",
    "y_val = y_train[40000:60000]"
   ]
  },
  {
   "cell_type": "markdown",
   "metadata": {},
   "source": [
    "**Question 3:** Transform the loaded images into the `float32` type, and then normalize them."
   ]
  },
  {
   "cell_type": "code",
   "execution_count": 71,
   "metadata": {},
   "outputs": [],
   "source": [
    "#transform images into float32\n",
    "x_train_2 = x_train_2.astype('float32')\n",
    "x_val = x_val.astype('float32')\n",
    "x_test = x_test.astype('float32')\n"
   ]
  },
  {
   "cell_type": "code",
   "execution_count": 72,
   "metadata": {},
   "outputs": [],
   "source": [
    "#normalization of the images\n",
    "x_train_2, x_val, x_test = x_train_2 / 255.0, x_val / 255.0, x_test / 255.0"
   ]
  },
  {
   "cell_type": "markdown",
   "metadata": {},
   "source": [
    "## Part 1: CNN"
   ]
  },
  {
   "cell_type": "markdown",
   "metadata": {},
   "source": [
    "**Question 4:** Create a convolutional neural network with the following properties:\n",
    "\n",
    "- Sequential model consisting of convolutional and max pooling layers used alternately.\n",
    "- Three convolutional layers consist of  $32$, $64$ and $128$  kernels, respectively and they are all of size $3\\times 3$, with the  $\\mathrm{ReLU}$  activation function.\n",
    "- Each of the two max pooling layers is with the pool size  $2\\times 2$.\n",
    "- After the third convolutional layer use the `Flatten` layer.\n",
    "- Finally, add on top two fully connected layers with $128$ and $10$  neurons, with $\\mathrm{ReLU}$ and *softmax* activation functions, respectively."
   ]
  },
  {
   "cell_type": "code",
   "execution_count": 73,
   "metadata": {},
   "outputs": [],
   "source": [
    "model = Sequential()\n",
    "\n",
    "model.add(Conv2D(32, (3, 3), activation='relu', input_shape=(28, 28, 1)))\n",
    "model.add(MaxPool2D((2, 2)))\n",
    "model.add(Conv2D(64, (3, 3), activation='relu'))\n",
    "model.add(MaxPool2D((2, 2)))\n",
    "model.add(Conv2D(128, (3, 3), activation='relu'))\n",
    "model.add(Flatten())\n",
    "model.add(Dense(128, activation='relu'))\n",
    "model.add(Dense(10, activation='softmax'))\n"
   ]
  },
  {
   "cell_type": "markdown",
   "metadata": {},
   "source": [
    "**Question 5:** Train the previously defined network in $10$ epochs with the batch size equal to $32$. For the error, use `categorical cross entropy`, other parameters you may choose arbitrarily. Create a textual summary of your model."
   ]
  },
  {
   "cell_type": "code",
   "execution_count": 74,
   "metadata": {},
   "outputs": [],
   "source": [
    "model.compile(optimizer='adam',\n",
    "              loss=tf.keras.losses.CategoricalCrossentropy(),\n",
    "              metrics=['accuracy'])"
   ]
  },
  {
   "cell_type": "code",
   "execution_count": 75,
   "metadata": {},
   "outputs": [
    {
     "name": "stdout",
     "output_type": "stream",
     "text": [
      "Epoch 1/10\n",
      "1250/1250 [==============================] - 21s 16ms/step - loss: 0.5173 - accuracy: 0.8092 - val_loss: 0.3822 - val_accuracy: 0.8622\n",
      "Epoch 2/10\n",
      "1250/1250 [==============================] - 19s 15ms/step - loss: 0.3327 - accuracy: 0.8776 - val_loss: 0.3110 - val_accuracy: 0.8859\n",
      "Epoch 3/10\n",
      "1250/1250 [==============================] - 22s 17ms/step - loss: 0.2829 - accuracy: 0.8961 - val_loss: 0.2890 - val_accuracy: 0.8938\n",
      "Epoch 4/10\n",
      "1250/1250 [==============================] - 21s 17ms/step - loss: 0.2490 - accuracy: 0.9065 - val_loss: 0.2902 - val_accuracy: 0.8939\n",
      "Epoch 5/10\n",
      "1250/1250 [==============================] - 22s 18ms/step - loss: 0.2241 - accuracy: 0.9160 - val_loss: 0.2748 - val_accuracy: 0.9002\n",
      "Epoch 6/10\n",
      "1250/1250 [==============================] - 19s 16ms/step - loss: 0.1983 - accuracy: 0.9255 - val_loss: 0.2677 - val_accuracy: 0.9050\n",
      "Epoch 7/10\n",
      "1250/1250 [==============================] - 21s 17ms/step - loss: 0.1784 - accuracy: 0.9331 - val_loss: 0.2711 - val_accuracy: 0.9066\n",
      "Epoch 8/10\n",
      "1250/1250 [==============================] - 21s 17ms/step - loss: 0.1599 - accuracy: 0.9391 - val_loss: 0.2901 - val_accuracy: 0.8986\n",
      "Epoch 9/10\n",
      "1250/1250 [==============================] - 20s 16ms/step - loss: 0.1402 - accuracy: 0.9474 - val_loss: 0.3117 - val_accuracy: 0.9046\n",
      "Epoch 10/10\n",
      "1250/1250 [==============================] - 21s 17ms/step - loss: 0.1260 - accuracy: 0.9523 - val_loss: 0.2957 - val_accuracy: 0.9096\n",
      "Model: \"sequential\"\n",
      "_________________________________________________________________\n",
      " Layer (type)                Output Shape              Param #   \n",
      "=================================================================\n",
      " conv2d_208 (Conv2D)         (None, 26, 26, 32)        320       \n",
      "                                                                 \n",
      " max_pooling2d_129 (MaxPooli  (None, 13, 13, 32)       0         \n",
      " ng2D)                                                           \n",
      "                                                                 \n",
      " conv2d_209 (Conv2D)         (None, 11, 11, 64)        18496     \n",
      "                                                                 \n",
      " max_pooling2d_130 (MaxPooli  (None, 5, 5, 64)         0         \n",
      " ng2D)                                                           \n",
      "                                                                 \n",
      " conv2d_210 (Conv2D)         (None, 3, 3, 128)         73856     \n",
      "                                                                 \n",
      " flatten_20 (Flatten)        (None, 1152)              0         \n",
      "                                                                 \n",
      " dense_23 (Dense)            (None, 128)               147584    \n",
      "                                                                 \n",
      " dense_24 (Dense)            (None, 10)                1290      \n",
      "                                                                 \n",
      "=================================================================\n",
      "Total params: 241,546\n",
      "Trainable params: 241,546\n",
      "Non-trainable params: 0\n",
      "_________________________________________________________________\n"
     ]
    }
   ],
   "source": [
    "epochs = 10\n",
    "batch_size = 32\n",
    "num_classes = 10\n",
    "\n",
    "train_labels_cat = tf.keras.utils.to_categorical(y_train_2, num_classes)\n",
    "val_labels_cat = tf.keras.utils.to_categorical(y_val, num_classes)\n",
    "test_labels_cat = tf.keras.utils.to_categorical(y_test, num_classes)\n",
    "\n",
    "model.compile(optimizer='adam',\n",
    "              loss=tf.keras.losses.CategoricalCrossentropy(),\n",
    "              metrics=['accuracy'])\n",
    "\n",
    "history = model.fit(x_train_2, train_labels_cat, epochs=epochs,\n",
    "                    batch_size=batch_size,  validation_data=(x_val, val_labels_cat))\n",
    "\n",
    "model.summary()"
   ]
  },
  {
   "cell_type": "markdown",
   "metadata": {},
   "source": [
    "**Question 6:** \n",
    "- Plot the accuracy on the training and validation datasets over training epochs. Add a legend.\n",
    "- What do you observe from the obtained plot?\n",
    "- How could you improve the previous model? Explain shortly!"
   ]
  },
  {
   "cell_type": "code",
   "execution_count": 76,
   "metadata": {},
   "outputs": [
    {
     "data": {
      "text/plain": [
       "Text(0.5, 1.0, 'Training and Validation Accuracy')"
      ]
     },
     "execution_count": 76,
     "metadata": {},
     "output_type": "execute_result"
    },
    {
     "data": {
      "image/png": "[encoded data removed]",
      "text/plain": [
       "<Figure size 1008x576 with 1 Axes>"
      ]
     },
     "metadata": {
      "needs_background": "light"
     },
     "output_type": "display_data"
    }
   ],
   "source": [
    "acc = history.history['accuracy']\n",
    "val_acc = history.history['val_accuracy']\n",
    "\n",
    "epochs_range = range(epochs)\n",
    "\n",
    "plt.figure(figsize=(14, 8))\n",
    "plt.subplot(1, 2, 1)\n",
    "plt.plot(epochs_range, acc, label='Training Accuracy')\n",
    "plt.plot(epochs_range, val_acc, label='Validation Accuracy')\n",
    "plt.legend(loc='lower right')\n",
    "plt.title('Training and Validation Accuracy')\n",
    "\n",
    "#From the plot we can observe a very good performance on the training set and a\n",
    "#bad performance on the validation set, this is due because of overfitting, a situation in which the \n",
    "#model does not generalize the data and is very complex.\n",
    "#To improve the previous model we can use data augmentation, increase the number of epochs or use regularization techniques."
   ]
  },
  {
   "cell_type": "markdown",
   "metadata": {},
   "source": [
    "## Part 2: Autoencoder"
   ]
  },
  {
   "cell_type": "markdown",
   "metadata": {},
   "source": [
    "**Question 7:** Create an autoencoder network with the following properties:\n",
    "- the `encoder` consists of $3$ convolutional and $3$ max pooling layers used alternately\n",
    "    - convolutional layers consist of $64$, $32$ and $16$ kernels, respectively, of size $3\\times 3$, and with the $\\mathrm{ReLU}$ activation function \n",
    "    - each max pooling layer is with the pool size $2\\times 2$\n",
    "- the `decoder` consists of $3$ convolutional and $3$ up sampling layers used alternately\n",
    "    - convolutional layers consist of $16$, $32$ and $64$ kernels, respectively, of size $3\\times 3$, and with the $\\mathrm{ReLU}$ activation function at each layer, except at the last (output) layer where the *sigmoid* activation function is used\n",
    "    - each up sampling layer is with the usampling factors of size $2\\times 2$.\n",
    "\n",
    "Use the `Adam` optimizer and `MSE` error as a loss function. \n",
    "\n",
    "**Note:** Name the output of the final max pooling layer, i.e., the model that produces the latent representation, `encoder` (this will be useful for the second part of the assignment)."
   ]
  },
  {
   "cell_type": "code",
   "execution_count": 90,
   "metadata": {},
   "outputs": [
    {
     "name": "stdout",
     "output_type": "stream",
     "text": [
      "Model: \"encoder\"\n",
      "_________________________________________________________________\n",
      " Layer (type)                Output Shape              Param #   \n",
      "=================================================================\n",
      " encoder_input (InputLayer)  [(None, 28, 28, 1)]       0         \n",
      "                                                                 \n",
      " conv2d_217 (Conv2D)         (None, 26, 26, 64)        640       \n",
      "                                                                 \n",
      " max_pooling2d_134 (MaxPooli  (None, 13, 13, 64)       0         \n",
      " ng2D)                                                           \n",
      "                                                                 \n",
      " conv2d_218 (Conv2D)         (None, 13, 13, 32)        18464     \n",
      "                                                                 \n",
      " max_pooling2d_135 (MaxPooli  (None, 7, 7, 32)         0         \n",
      " ng2D)                                                           \n",
      "                                                                 \n",
      " conv2d_219 (Conv2D)         (None, 7, 7, 16)          4624      \n",
      "                                                                 \n",
      " max_pooling2d_136 (MaxPooli  (None, 4, 4, 16)         0         \n",
      " ng2D)                                                           \n",
      "                                                                 \n",
      "=================================================================\n",
      "Total params: 23,728\n",
      "Trainable params: 23,728\n",
      "Non-trainable params: 0\n",
      "_________________________________________________________________\n",
      "Model: \"decoder\"\n",
      "______________________________________________________________________________________________________________\n",
      " Layer (type)                                    Output Shape                                Param #          \n",
      "==============================================================================================================\n",
      " decoder_input (InputLayer)                      [(None, 4, 4, 16)]                          0                \n",
      "                                                                                                              \n",
      " conv2d_220 (Conv2D)                             (None, 4, 4, 16)                            2320             \n",
      "                                                                                                              \n",
      " up_sampling2d_119 (UpSampling2D)                (None, 8, 8, 16)                            0                \n",
      "                                                                                                              \n",
      " conv2d_221 (Conv2D)                             (None, 8, 8, 32)                            4640             \n",
      "                                                                                                              \n",
      " up_sampling2d_120 (UpSampling2D)                (None, 16, 16, 32)                          0                \n",
      "                                                                                                              \n",
      " conv2d_222 (Conv2D)                             (None, 14, 14, 64)                          18496            \n",
      "                                                                                                              \n",
      " up_sampling2d_121 (UpSampling2D)                (None, 28, 28, 64)                          0                \n",
      "                                                                                                              \n",
      " conv2d_transpose_61 (Conv2DTranspose)           (None, 28, 28, 1)                           577              \n",
      "                                                                                                              \n",
      " decoder_output (Activation)                     (None, 28, 28, 1)                           0                \n",
      "                                                                                                              \n",
      "==============================================================================================================\n",
      "Total params: 26,033\n",
      "Trainable params: 26,033\n",
      "Non-trainable params: 0\n",
      "______________________________________________________________________________________________________________\n",
      "Model: \"autoencoder\"\n",
      "_________________________________________________________________\n",
      " Layer (type)                Output Shape              Param #   \n",
      "=================================================================\n",
      " encoder_input (InputLayer)  [(None, 28, 28, 1)]       0         \n",
      "                                                                 \n",
      " encoder (Functional)        (None, 4, 4, 16)          23728     \n",
      "                                                                 \n",
      " decoder (Functional)        (None, 28, 28, 1)         26033     \n",
      "                                                                 \n",
      "=================================================================\n",
      "Total params: 49,761\n",
      "Trainable params: 49,761\n",
      "Non-trainable params: 0\n",
      "_________________________________________________________________\n"
     ]
    }
   ],
   "source": [
    "# Encoder\n",
    "inputs = Input(shape=(28, 28, 1), name='encoder_input')\n",
    "x = inputs\n",
    "\n",
    "# Convolutional and max pooling layers\n",
    "x = Conv2D(64, (3, 3), activation='relu')(x)\n",
    "x = MaxPool2D((2, 2),padding='same')(x)\n",
    "x = Conv2D(32, (3, 3), activation='relu',padding='same')(x)\n",
    "x = MaxPool2D((2, 2),padding='same')(x)\n",
    "x = Conv2D(16, (3, 3), activation='relu',padding='same')(x)\n",
    "x = MaxPool2D((2, 2),padding='same')(x)\n",
    "\n",
    "# Define the encoder model\n",
    "encoder = Model(inputs=inputs, outputs=x, name='encoder')\n",
    "encoder.summary()\n",
    "\n",
    "\n",
    "\n",
    "\n",
    "kernel_size = (3, 3)\n",
    "\n",
    "pool_size = (2, 2)\n",
    "\n",
    "\n",
    "# Decoder\n",
    "\n",
    "latent_inputs = Input(shape=(4,4,16), name='decoder_input')\n",
    "\n",
    "x = Conv2D(filters=16, kernel_size=kernel_size,\n",
    "           activation='relu',padding='same')(latent_inputs)\n",
    "\n",
    "x = UpSampling2D(size=up_sampling_factors)(x)\n",
    "\n",
    "x = Conv2D(filters=32,\n",
    "           kernel_size=kernel_size,\n",
    "           activation='relu',padding='same')(x)\n",
    "\n",
    "x = UpSampling2D(size=up_sampling_factors)(x)\n",
    "\n",
    "x = Conv2D(filters=64,\n",
    "           kernel_size=kernel_size,\n",
    "           activation='relu')(x)\n",
    "\n",
    "x = UpSampling2D(size=up_sampling_factors)(x)\n",
    "\n",
    " \n",
    "# then we add one more convolutional layer to control the channel dimension   \n",
    "x = Conv2DTranspose(filters=1,\n",
    "                    kernel_size=kernel_size,\n",
    "                    padding='same')(x)\n",
    "\n",
    "# and one activation later with the sigmoid activation function\n",
    "outputs = Activation('sigmoid', name='decoder_output')(x)\n",
    "\n",
    "# Define the decoder model\n",
    "decoder = Model(inputs=latent_inputs, outputs=outputs, name='decoder')\n",
    "decoder.summary(line_length=110)\n",
    "\n",
    "autoencoder = Model(inputs, decoder(encoder(inputs)), name='autoencoder')\n",
    "autoencoder.summary()\n",
    "\n",
    "# Compile the autoencoder\n",
    "autoencoder.compile(optimizer='adam', loss='mse')"
   ]
  },
  {
   "cell_type": "markdown",
   "metadata": {},
   "source": [
    "**Question 8:** Train the autoencoder over $10$ epochs. Set the `shuffle` parameter to True. Set the `batch_size` to $128$."
   ]
  },
  {
   "cell_type": "code",
   "execution_count": 91,
   "metadata": {},
   "outputs": [
    {
     "name": "stdout",
     "output_type": "stream",
     "text": [
      "Epoch 1/10\n",
      "313/313 [==============================] - 56s 175ms/step - loss: 0.0329 - val_loss: 0.0205\n",
      "Epoch 2/10\n",
      "313/313 [==============================] - 55s 176ms/step - loss: 0.0184 - val_loss: 0.0171\n",
      "Epoch 3/10\n",
      "313/313 [==============================] - 55s 176ms/step - loss: 0.0159 - val_loss: 0.0149\n",
      "Epoch 4/10\n",
      "313/313 [==============================] - 54s 173ms/step - loss: 0.0144 - val_loss: 0.0137\n",
      "Epoch 5/10\n",
      "313/313 [==============================] - 51s 164ms/step - loss: 0.0136 - val_loss: 0.0131\n",
      "Epoch 6/10\n",
      "313/313 [==============================] - 54s 172ms/step - loss: 0.0129 - val_loss: 0.0124\n",
      "Epoch 7/10\n",
      "313/313 [==============================] - 53s 170ms/step - loss: 0.0123 - val_loss: 0.0120\n",
      "Epoch 8/10\n",
      "313/313 [==============================] - 53s 171ms/step - loss: 0.0119 - val_loss: 0.0116\n",
      "Epoch 9/10\n",
      "313/313 [==============================] - 53s 169ms/step - loss: 0.0115 - val_loss: 0.0112\n",
      "Epoch 10/10\n",
      "313/313 [==============================] - 53s 170ms/step - loss: 0.0111 - val_loss: 0.0110\n"
     ]
    }
   ],
   "source": [
    "\n",
    "# Train the model\n",
    "history = autoencoder.fit(x_train_2, x_train_2, epochs=10, batch_size=128, shuffle=True,validation_data=(x_val, x_val))"
   ]
  },
  {
   "cell_type": "markdown",
   "metadata": {},
   "source": [
    "**Question 9:** Plot loss on the training and validation datasets over the training epochs. Add a legend to your plot."
   ]
  },
  {
   "cell_type": "code",
   "execution_count": 92,
   "metadata": {},
   "outputs": [
    {
     "data": {
      "image/png": "[encoded data removed]",
      "text/plain": [
       "<Figure size 432x288 with 1 Axes>"
      ]
     },
     "metadata": {
      "needs_background": "light"
     },
     "output_type": "display_data"
    }
   ],
   "source": [
    "# Extract the training and validation loss values\n",
    "train_loss = history.history['loss']\n",
    "val_loss = history.history['val_loss']\n",
    "\n",
    "# Plot the training and validation loss values\n",
    "epochs = range(1, len(train_loss) + 1)\n",
    "plt.plot(epochs, train_loss, 'b', label='Training loss')\n",
    "plt.plot(epochs, val_loss, 'r', label='Validation loss')\n",
    "plt.title('Training and validation loss')\n",
    "plt.xlabel('Epochs')\n",
    "plt.ylabel('Loss')\n",
    "plt.legend()\n",
    "plt.show()"
   ]
  },
  {
   "cell_type": "markdown",
   "metadata": {},
   "source": [
    "**Question 10:** Show for an arbitrary image of the test set how the autoencoder works. In other words, plot an arbitrary original and  predicted image from the test set."
   ]
  },
  {
   "cell_type": "code",
   "execution_count": 93,
   "metadata": {},
   "outputs": [
    {
     "name": "stdout",
     "output_type": "stream",
     "text": [
      "1/1 [==============================] - 0s 126ms/step\n"
     ]
    },
    {
     "data": {
      "image/png": "[encoded data removed]",
      "text/plain": [
       "<Figure size 432x288 with 1 Axes>"
      ]
     },
     "metadata": {
      "needs_background": "light"
     },
     "output_type": "display_data"
    },
    {
     "data": {
      "image/png": "[encoded data removed]",
      "text/plain": [
       "<Figure size 432x288 with 1 Axes>"
      ]
     },
     "metadata": {
      "needs_background": "light"
     },
     "output_type": "display_data"
    }
   ],
   "source": [
    "image = x_test[20]\n",
    "\n",
    "# now we try to reconstruct the image\n",
    "reconstructed_image = autoencoder.predict(image.reshape(1, 28, 28, 1))\n",
    "\n",
    "# show original and predicted image\n",
    "plt.imshow(image.reshape(28, 28), cmap='gray')\n",
    "plt.title('The original image')\n",
    "plt.show()\n",
    "plt.imshow(reconstructed_image.reshape(28, 28), cmap='gray')\n",
    "plt.title('Reconstruction of the image')\n",
    "plt.show()"
   ]
  },
  {
   "cell_type": "markdown",
   "metadata": {},
   "source": [
    "**Question 11:** Calculate the loss for the autoencoder on the test set."
   ]
  },
  {
   "cell_type": "code",
   "execution_count": 95,
   "metadata": {},
   "outputs": [
    {
     "name": "stdout",
     "output_type": "stream",
     "text": [
      "313/313 [==============================] - 4s 12ms/step - loss: 0.0111\n",
      "Loss on the test set is: {loss}\n"
     ]
    }
   ],
   "source": [
    "# Evaluate the model on the test set\n",
    "loss = autoencoder.evaluate(x_test, x_test)\n",
    "\n",
    "print('Loss on the test set is: {loss}')"
   ]
  },
  {
   "cell_type": "markdown",
   "metadata": {},
   "source": [
    "Now, we will use the learned autoencoder for **similar image retrieval** task. More precisely, we can compute the distance between the latent-space vectors to look for similar images. Naturally, the smaller the distance, the more visually similar two images are. \n",
    "\n",
    "Your goal is to create a very simple image retrieval system by using the trained autoencoder and the [nearest-neighbors](https://scikit-learn.org/stable/modules/generated/sklearn.neighbors.NearestNeighbors.html) algorithm."
   ]
  },
  {
   "cell_type": "markdown",
   "metadata": {},
   "source": [
    "**Question 12:** \n",
    "    \n",
    "- Extract the encoder part of your autoencoder model and save it in the folder as `encoder.h5`.\n",
    "- Fit the encoder part on your test set and reshape the output in order to obtain the latent space vectors.\n",
    "- Choose an arbitrary query image from the test set."
   ]
  },
  {
   "cell_type": "code",
   "execution_count": 97,
   "metadata": {},
   "outputs": [],
   "source": [
    "# Extraction of the encoder\n",
    "encoder = autoencoder.layers[0]\n",
    "\n",
    "# Save the encoder modelin the folder as encoder.h5\n",
    "autoencoder.save('models/autoencoder.h5')"
   ]
  },
  {
   "cell_type": "code",
   "execution_count": 141,
   "metadata": {
    "scrolled": false
   },
   "outputs": [
    {
     "name": "stdout",
     "output_type": "stream",
     "text": [
      "313/313 [==============================] - 4s 12ms/step\n"
     ]
    },
    {
     "ename": "ValueError",
     "evalue": "cannot reshape array of size 7840000 into shape (10000,256,1,1)",
     "output_type": "error",
     "traceback": [
      "\u001b[1;31m---------------------------------------------------------------------------\u001b[0m",
      "\u001b[1;31mValueError\u001b[0m                                Traceback (most recent call last)",
      "\u001b[1;32m<ipython-input-141-875ed69d4d46>\u001b[0m in \u001b[0;36m<module>\u001b[1;34m\u001b[0m\n\u001b[0;32m      3\u001b[0m \u001b[0mlatent_vectors\u001b[0m \u001b[1;33m=\u001b[0m \u001b[0mencoder\u001b[0m\u001b[1;33m.\u001b[0m\u001b[0mpredict\u001b[0m\u001b[1;33m(\u001b[0m\u001b[0mx_test\u001b[0m\u001b[1;33m)\u001b[0m\u001b[1;33m\u001b[0m\u001b[1;33m\u001b[0m\u001b[0m\n\u001b[0;32m      4\u001b[0m \u001b[1;31m#reshape\u001b[0m\u001b[1;33m\u001b[0m\u001b[1;33m\u001b[0m\u001b[1;33m\u001b[0m\u001b[0m\n\u001b[1;32m----> 5\u001b[1;33m \u001b[0mlatent_vectors\u001b[0m \u001b[1;33m=\u001b[0m \u001b[0mnp\u001b[0m\u001b[1;33m.\u001b[0m\u001b[0mreshape\u001b[0m\u001b[1;33m(\u001b[0m\u001b[0mlatent_vectors\u001b[0m\u001b[1;33m,\u001b[0m\u001b[1;33m(\u001b[0m\u001b[1;36m10000\u001b[0m\u001b[1;33m,\u001b[0m\u001b[1;36m256\u001b[0m\u001b[1;33m,\u001b[0m\u001b[1;36m1\u001b[0m\u001b[1;33m,\u001b[0m\u001b[1;36m1\u001b[0m\u001b[1;33m)\u001b[0m\u001b[1;33m)\u001b[0m\u001b[1;33m\u001b[0m\u001b[1;33m\u001b[0m\u001b[0m\n\u001b[0m",
      "\u001b[1;32m<__array_function__ internals>\u001b[0m in \u001b[0;36mreshape\u001b[1;34m(*args, **kwargs)\u001b[0m\n",
      "\u001b[1;32m~\\anaconda3\\lib\\site-packages\\numpy\\core\\fromnumeric.py\u001b[0m in \u001b[0;36mreshape\u001b[1;34m(a, newshape, order)\u001b[0m\n\u001b[0;32m    297\u001b[0m            [5, 6]])\n\u001b[0;32m    298\u001b[0m     \"\"\"\n\u001b[1;32m--> 299\u001b[1;33m     \u001b[1;32mreturn\u001b[0m \u001b[0m_wrapfunc\u001b[0m\u001b[1;33m(\u001b[0m\u001b[0ma\u001b[0m\u001b[1;33m,\u001b[0m \u001b[1;34m'reshape'\u001b[0m\u001b[1;33m,\u001b[0m \u001b[0mnewshape\u001b[0m\u001b[1;33m,\u001b[0m \u001b[0morder\u001b[0m\u001b[1;33m=\u001b[0m\u001b[0morder\u001b[0m\u001b[1;33m)\u001b[0m\u001b[1;33m\u001b[0m\u001b[1;33m\u001b[0m\u001b[0m\n\u001b[0m\u001b[0;32m    300\u001b[0m \u001b[1;33m\u001b[0m\u001b[0m\n\u001b[0;32m    301\u001b[0m \u001b[1;33m\u001b[0m\u001b[0m\n",
      "\u001b[1;32m~\\anaconda3\\lib\\site-packages\\numpy\\core\\fromnumeric.py\u001b[0m in \u001b[0;36m_wrapfunc\u001b[1;34m(obj, method, *args, **kwds)\u001b[0m\n\u001b[0;32m     56\u001b[0m \u001b[1;33m\u001b[0m\u001b[0m\n\u001b[0;32m     57\u001b[0m     \u001b[1;32mtry\u001b[0m\u001b[1;33m:\u001b[0m\u001b[1;33m\u001b[0m\u001b[1;33m\u001b[0m\u001b[0m\n\u001b[1;32m---> 58\u001b[1;33m         \u001b[1;32mreturn\u001b[0m \u001b[0mbound\u001b[0m\u001b[1;33m(\u001b[0m\u001b[1;33m*\u001b[0m\u001b[0margs\u001b[0m\u001b[1;33m,\u001b[0m \u001b[1;33m**\u001b[0m\u001b[0mkwds\u001b[0m\u001b[1;33m)\u001b[0m\u001b[1;33m\u001b[0m\u001b[1;33m\u001b[0m\u001b[0m\n\u001b[0m\u001b[0;32m     59\u001b[0m     \u001b[1;32mexcept\u001b[0m \u001b[0mTypeError\u001b[0m\u001b[1;33m:\u001b[0m\u001b[1;33m\u001b[0m\u001b[1;33m\u001b[0m\u001b[0m\n\u001b[0;32m     60\u001b[0m         \u001b[1;31m# A TypeError occurs if the object does have such a method in its\u001b[0m\u001b[1;33m\u001b[0m\u001b[1;33m\u001b[0m\u001b[1;33m\u001b[0m\u001b[0m\n",
      "\u001b[1;31mValueError\u001b[0m: cannot reshape array of size 7840000 into shape (10000,256,1,1)"
     ]
    }
   ],
   "source": [
    "encoder = keras.models.load_model('models/autoencoder.h5')\n",
    "\n",
    "latent_vectors = encoder.predict(x_test)\n",
    "#reshape\n",
    "latent_vectors = np.reshape(latent_vectors,(10000,256))"
   ]
  },
  {
   "cell_type": "code",
   "execution_count": null,
   "metadata": {},
   "outputs": [],
   "source": [
    "# Choose an arbitrary query image from the test set\n",
    "index = 10\n",
    "query_image = x_test[index]"
   ]
  },
  {
   "cell_type": "markdown",
   "metadata": {},
   "source": [
    "**Question 13:** \n",
    "- Fit the NN algorithm to the encoded test set in order to obtain distances and indices of the data.\n",
    "- Find the $10$ closest images to the encoded query image.\n",
    "- Plot the obtained $10$ closest images."
   ]
  },
  {
   "cell_type": "code",
   "execution_count": 121,
   "metadata": {},
   "outputs": [],
   "source": [
    "from sklearn.neighbors import NearestNeighbors"
   ]
  },
  {
   "cell_type": "code",
   "execution_count": 122,
   "metadata": {},
   "outputs": [
    {
     "ename": "ValueError",
     "evalue": "Found array with dim 4. NearestNeighbors expected <= 2.",
     "output_type": "error",
     "traceback": [
      "\u001b[1;31m---------------------------------------------------------------------------\u001b[0m",
      "\u001b[1;31mValueError\u001b[0m                                Traceback (most recent call last)",
      "\u001b[1;32m<ipython-input-122-3d4aede8fced>\u001b[0m in \u001b[0;36m<module>\u001b[1;34m\u001b[0m\n\u001b[0;32m      3\u001b[0m \u001b[1;33m\u001b[0m\u001b[0m\n\u001b[0;32m      4\u001b[0m \u001b[1;31m# Fit the model to the latent space vectors\u001b[0m\u001b[1;33m\u001b[0m\u001b[1;33m\u001b[0m\u001b[1;33m\u001b[0m\u001b[0m\n\u001b[1;32m----> 5\u001b[1;33m \u001b[0mnn\u001b[0m\u001b[1;33m.\u001b[0m\u001b[0mfit\u001b[0m\u001b[1;33m(\u001b[0m\u001b[0mlatent_vectors\u001b[0m\u001b[1;33m)\u001b[0m\u001b[1;33m\u001b[0m\u001b[1;33m\u001b[0m\u001b[0m\n\u001b[0m\u001b[0;32m      6\u001b[0m \u001b[1;33m\u001b[0m\u001b[0m\n\u001b[0;32m      7\u001b[0m \u001b[1;31m# Obtain the distances and indices of the 10 closest neighbors\u001b[0m\u001b[1;33m\u001b[0m\u001b[1;33m\u001b[0m\u001b[1;33m\u001b[0m\u001b[0m\n",
      "\u001b[1;32m~\\anaconda3\\lib\\site-packages\\sklearn\\neighbors\\_unsupervised.py\u001b[0m in \u001b[0;36mfit\u001b[1;34m(self, X, y)\u001b[0m\n\u001b[0;32m    174\u001b[0m         \"\"\"\n\u001b[0;32m    175\u001b[0m         \u001b[0mself\u001b[0m\u001b[1;33m.\u001b[0m\u001b[0m_validate_params\u001b[0m\u001b[1;33m(\u001b[0m\u001b[1;33m)\u001b[0m\u001b[1;33m\u001b[0m\u001b[1;33m\u001b[0m\u001b[0m\n\u001b[1;32m--> 176\u001b[1;33m         \u001b[1;32mreturn\u001b[0m \u001b[0mself\u001b[0m\u001b[1;33m.\u001b[0m\u001b[0m_fit\u001b[0m\u001b[1;33m(\u001b[0m\u001b[0mX\u001b[0m\u001b[1;33m)\u001b[0m\u001b[1;33m\u001b[0m\u001b[1;33m\u001b[0m\u001b[0m\n\u001b[0m",
      "\u001b[1;32m~\\anaconda3\\lib\\site-packages\\sklearn\\neighbors\\_base.py\u001b[0m in \u001b[0;36m_fit\u001b[1;34m(self, X, y)\u001b[0m\n\u001b[0;32m    489\u001b[0m         \u001b[1;32melse\u001b[0m\u001b[1;33m:\u001b[0m\u001b[1;33m\u001b[0m\u001b[1;33m\u001b[0m\u001b[0m\n\u001b[0;32m    490\u001b[0m             \u001b[1;32mif\u001b[0m \u001b[1;32mnot\u001b[0m \u001b[0misinstance\u001b[0m\u001b[1;33m(\u001b[0m\u001b[0mX\u001b[0m\u001b[1;33m,\u001b[0m \u001b[1;33m(\u001b[0m\u001b[0mKDTree\u001b[0m\u001b[1;33m,\u001b[0m \u001b[0mBallTree\u001b[0m\u001b[1;33m,\u001b[0m \u001b[0mNeighborsBase\u001b[0m\u001b[1;33m)\u001b[0m\u001b[1;33m)\u001b[0m\u001b[1;33m:\u001b[0m\u001b[1;33m\u001b[0m\u001b[1;33m\u001b[0m\u001b[0m\n\u001b[1;32m--> 491\u001b[1;33m                 \u001b[0mX\u001b[0m \u001b[1;33m=\u001b[0m \u001b[0mself\u001b[0m\u001b[1;33m.\u001b[0m\u001b[0m_validate_data\u001b[0m\u001b[1;33m(\u001b[0m\u001b[0mX\u001b[0m\u001b[1;33m,\u001b[0m \u001b[0maccept_sparse\u001b[0m\u001b[1;33m=\u001b[0m\u001b[1;34m\"csr\"\u001b[0m\u001b[1;33m,\u001b[0m \u001b[0morder\u001b[0m\u001b[1;33m=\u001b[0m\u001b[1;34m\"C\"\u001b[0m\u001b[1;33m)\u001b[0m\u001b[1;33m\u001b[0m\u001b[1;33m\u001b[0m\u001b[0m\n\u001b[0m\u001b[0;32m    492\u001b[0m \u001b[1;33m\u001b[0m\u001b[0m\n\u001b[0;32m    493\u001b[0m         \u001b[0mself\u001b[0m\u001b[1;33m.\u001b[0m\u001b[0m_check_algorithm_metric\u001b[0m\u001b[1;33m(\u001b[0m\u001b[1;33m)\u001b[0m\u001b[1;33m\u001b[0m\u001b[1;33m\u001b[0m\u001b[0m\n",
      "\u001b[1;32m~\\anaconda3\\lib\\site-packages\\sklearn\\base.py\u001b[0m in \u001b[0;36m_validate_data\u001b[1;34m(self, X, y, reset, validate_separately, **check_params)\u001b[0m\n\u001b[0;32m    533\u001b[0m             \u001b[1;32mraise\u001b[0m \u001b[0mValueError\u001b[0m\u001b[1;33m(\u001b[0m\u001b[1;34m\"Validation should be done on X, y or both.\"\u001b[0m\u001b[1;33m)\u001b[0m\u001b[1;33m\u001b[0m\u001b[1;33m\u001b[0m\u001b[0m\n\u001b[0;32m    534\u001b[0m         \u001b[1;32melif\u001b[0m \u001b[1;32mnot\u001b[0m \u001b[0mno_val_X\u001b[0m \u001b[1;32mand\u001b[0m \u001b[0mno_val_y\u001b[0m\u001b[1;33m:\u001b[0m\u001b[1;33m\u001b[0m\u001b[1;33m\u001b[0m\u001b[0m\n\u001b[1;32m--> 535\u001b[1;33m             \u001b[0mX\u001b[0m \u001b[1;33m=\u001b[0m \u001b[0mcheck_array\u001b[0m\u001b[1;33m(\u001b[0m\u001b[0mX\u001b[0m\u001b[1;33m,\u001b[0m \u001b[0minput_name\u001b[0m\u001b[1;33m=\u001b[0m\u001b[1;34m\"X\"\u001b[0m\u001b[1;33m,\u001b[0m \u001b[1;33m**\u001b[0m\u001b[0mcheck_params\u001b[0m\u001b[1;33m)\u001b[0m\u001b[1;33m\u001b[0m\u001b[1;33m\u001b[0m\u001b[0m\n\u001b[0m\u001b[0;32m    536\u001b[0m             \u001b[0mout\u001b[0m \u001b[1;33m=\u001b[0m \u001b[0mX\u001b[0m\u001b[1;33m\u001b[0m\u001b[1;33m\u001b[0m\u001b[0m\n\u001b[0;32m    537\u001b[0m         \u001b[1;32melif\u001b[0m \u001b[0mno_val_X\u001b[0m \u001b[1;32mand\u001b[0m \u001b[1;32mnot\u001b[0m \u001b[0mno_val_y\u001b[0m\u001b[1;33m:\u001b[0m\u001b[1;33m\u001b[0m\u001b[1;33m\u001b[0m\u001b[0m\n",
      "\u001b[1;32m~\\anaconda3\\lib\\site-packages\\sklearn\\utils\\validation.py\u001b[0m in \u001b[0;36mcheck_array\u001b[1;34m(array, accept_sparse, accept_large_sparse, dtype, order, copy, force_all_finite, ensure_2d, allow_nd, ensure_min_samples, ensure_min_features, estimator, input_name)\u001b[0m\n\u001b[0;32m    911\u001b[0m             )\n\u001b[0;32m    912\u001b[0m         \u001b[1;32mif\u001b[0m \u001b[1;32mnot\u001b[0m \u001b[0mallow_nd\u001b[0m \u001b[1;32mand\u001b[0m \u001b[0marray\u001b[0m\u001b[1;33m.\u001b[0m\u001b[0mndim\u001b[0m \u001b[1;33m>=\u001b[0m \u001b[1;36m3\u001b[0m\u001b[1;33m:\u001b[0m\u001b[1;33m\u001b[0m\u001b[1;33m\u001b[0m\u001b[0m\n\u001b[1;32m--> 913\u001b[1;33m             raise ValueError(\n\u001b[0m\u001b[0;32m    914\u001b[0m                 \u001b[1;34m\"Found array with dim %d. %s expected <= 2.\"\u001b[0m\u001b[1;33m\u001b[0m\u001b[1;33m\u001b[0m\u001b[0m\n\u001b[0;32m    915\u001b[0m                 \u001b[1;33m%\u001b[0m \u001b[1;33m(\u001b[0m\u001b[0marray\u001b[0m\u001b[1;33m.\u001b[0m\u001b[0mndim\u001b[0m\u001b[1;33m,\u001b[0m \u001b[0mestimator_name\u001b[0m\u001b[1;33m)\u001b[0m\u001b[1;33m\u001b[0m\u001b[1;33m\u001b[0m\u001b[0m\n",
      "\u001b[1;31mValueError\u001b[0m: Found array with dim 4. NearestNeighbors expected <= 2."
     ]
    }
   ],
   "source": [
    "nn = NearestNeighbors(n_neighbors=10)\n",
    "\n",
    "nn.fit(latent_vectors)\n",
    "\n",
    "distances, indices = nn.kneighbors(query_image)\n",
    "\n",
    "similar_images = x_test[indices]\n",
    "\n",
    "plt.imshow(query_image.reshape(28, 28), cmap='gray')\n",
    "plt.title('Query image')\n",
    "plt.show()\n",
    "\n",
    "# Display the 10 similar images\n",
    "for i, image in enumerate(similar_images[0]):\n",
    "    plt.imshow(image.reshape(28, 28), cmap='gray')\n",
    "    plt.title('Similar image {i+1}')\n",
    "    plt.show()"
   ]
  },
  {
   "cell_type": "code",
   "execution_count": null,
   "metadata": {},
   "outputs": [],
   "source": []
  },
  {
   "cell_type": "code",
   "execution_count": null,
   "metadata": {},
   "outputs": [],
   "source": []
  },
  {
   "cell_type": "code",
   "execution_count": null,
   "metadata": {},
   "outputs": [],
   "source": []
  },
  {
   "cell_type": "code",
   "execution_count": null,
   "metadata": {},
   "outputs": [],
   "source": []
  }
 ],
 "metadata": {
  "kernelspec": {
   "display_name": "Python 3",
   "language": "python",
   "name": "python3"
  },
  "language_info": {
   "codemirror_mode": {
    "name": "ipython",
    "version": 3
   },
   "file_extension": ".py",
   "mimetype": "text/x-python",
   "name": "python",
   "nbconvert_exporter": "python",
   "pygments_lexer": "ipython3",
   "version": "3.8.8"
  }
 },
 "nbformat": 4,
 "nbformat_minor": 4
}
