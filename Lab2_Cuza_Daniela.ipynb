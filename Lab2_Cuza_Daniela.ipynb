{
 "cells": [
  {
   "cell_type": "markdown",
   "metadata": {},
   "source": [
    "# Lab assignment 2: Breadth first search"
   ]
  },
  {
   "cell_type": "markdown",
   "metadata": {},
   "source": [
    "It is the year $2119$. The planets of the solar system are divided between two fractions of humans - Earthlings and Martians. The Earth spacecraft was sent to the edge of the Solar System to count the asteroids that threaten to collide with Earth. As Earthlings do not want the Martians to intercept the information, the spacecraft sends the data in encrypted form as a string of $8$ characters. Encryption is performed by sub-string inversions, and the smallest number of inversions required to go from a message character string to a sorted character string is a secret message."
   ]
  },
  {
   "cell_type": "markdown",
   "metadata": {},
   "source": [
    "**Example:**\n",
    "\n",
    "$A~B~C~D~\\vert~H~G~F~E~\\vert~\\rightarrow~A~B~C~D~\\vert~E~F~G~H~\\vert$\n",
    "\n",
    "The minimum number of inversions is $1$, so the secret message is $1$."
   ]
  },
  {
   "cell_type": "markdown",
   "metadata": {},
   "source": [
    "Write a program that uses `Breadth First Search` strategy to reveal a secret message, i.e., the least number of inversions needed to get a sorted character string from the received encrypted message."
   ]
  },
  {
   "cell_type": "markdown",
   "metadata": {},
   "source": [
    "**Input:**\n",
    " $H~  D~\\vert~ F~  G~  A~\\vert~ E~  B~  C$\n",
    "\n",
    "**Inversions (4):**\n",
    "$$\\vert H~  D~  A~\\vert~ G~  F~  E~  B~  C~\\\\\n",
    " ~A ~ D ~\\vert H~  G~  F~  E~  B~  C~\\vert \\\\\n",
    " ~A ~\\vert~ D~  C~  B~\\vert~ E~  F~  G~  H~ \\\\ \n",
    " ~A ~B ~ C~  D~  E~  F~  G~  H~$$\n",
    "\n",
    "**Output:**\n",
    "Secret message: $4$"
   ]
  },
  {
   "cell_type": "code",
   "execution_count": 1,
   "metadata": {},
   "outputs": [],
   "source": [
    "from collections import deque\n",
    "\n",
    "class Graph:\n",
    "    # The function returns a list of adjacent current state states\n",
    "    def get_neighbors(self, v):\n",
    "        n = len(v)\n",
    "        neighbors = []\n",
    "        # === YOUR CODE === #\n",
    "        for i in range(n-1):\n",
    "            for j in range (i+1,n):\n",
    "                if v[i] > v[j]:\n",
    "                    s = v[:i]\n",
    "                    m = v[i:j+1]\n",
    "                    m = m[::-1]\n",
    "                    e=v[j+1:]\n",
    "                    neighbor = s + m + e\n",
    "                    neighbors.append((neighbor, 1))\n",
    "        return neighbors\n",
    "    \n",
    "    # The function finds the path from start \n",
    "    # state to stop state using BFS search\n",
    "    def bfs(self, start, stop):\n",
    "        # === YOUR CODE === #\n",
    "        if start == stop:\n",
    "            path = [start]\n",
    "            return path\n",
    "        #inizialization  \n",
    "        parent = {}\n",
    "        # By casting into a string we obtain a series\n",
    "        parent[str(start)] = start\n",
    "        S = deque()\n",
    "        S.append(start)\n",
    "        while len(S) > 0:\n",
    "        # === YOUR CODE === #\n",
    "            n = S.popleft()\n",
    "            for (m, weight) in self.get_neighbors(n):\n",
    "                if str(m) not in parent:\n",
    "                    # === YOUR CODE === #\n",
    "                    parent[str(m)] = n\n",
    "                    S.append(m)\n",
    "                    if m == stop:\n",
    "                        path = []\n",
    "                        while stop is not start:\n",
    "                            path.append(stop)\n",
    "                            stop = parent[str(stop)]\n",
    "                        path.append(start)    \n",
    "                        path.reverse()\n",
    "                        return path\n",
    "        print('The requested path was not found')\n",
    "        return None"
   ]
  },
  {
   "cell_type": "code",
   "execution_count": 3,
   "metadata": {},
   "outputs": [
    {
     "name": "stdout",
     "output_type": "stream",
     "text": [
      "['H', 'D', 'F', 'G', 'A', 'E', 'B', 'C']\n",
      "['H', 'D', 'A', 'G', 'F', 'E', 'B', 'C']\n",
      "['A', 'D', 'H', 'G', 'F', 'E', 'B', 'C']\n",
      "['A', 'D', 'C', 'B', 'E', 'F', 'G', 'H']\n",
      "['A', 'B', 'C', 'D', 'E', 'F', 'G', 'H']\n",
      "\n",
      "Secret message is: 4\n"
     ]
    }
   ],
   "source": [
    "g = Graph()\n",
    "\n",
    "path = g.bfs(['H', 'D', 'F', 'G', 'A', 'E', 'B', 'C'], ['A', 'B', 'C', 'D', 'E', 'F', 'G', 'H'])\n",
    "\n",
    "for state in path:\n",
    "    print(state)\n",
    "\n",
    "print()\n",
    "print('Secret message is: {}'.format(len(path) - 1))"
   ]
  },
  {
   "cell_type": "code",
   "execution_count": 3,
   "metadata": {},
   "outputs": [
    {
     "name": "stdout",
     "output_type": "stream",
     "text": [
      "[1, 2, 3, 4, 5]\n",
      "[5, 4, 3, 2, 1]\n",
      "[]\n",
      "[5, 4]\n"
     ]
    }
   ],
   "source": [
    "list = [1,2,3,4,5]\n",
    "print(list)\n",
    "print(list[::-1])\n",
    "print(list[2:4:-1])\n",
    "print(list[4:2:-1])"
   ]
  },
  {
   "cell_type": "code",
   "execution_count": null,
   "metadata": {},
   "outputs": [],
   "source": []
  }
 ],
 "metadata": {
  "kernelspec": {
   "display_name": "Python 3",
   "language": "python",
   "name": "python3"
  },
  "language_info": {
   "codemirror_mode": {
    "name": "ipython",
    "version": 3
   },
   "file_extension": ".py",
   "mimetype": "text/x-python",
   "name": "python",
   "nbconvert_exporter": "python",
   "pygments_lexer": "ipython3",
   "version": "3.8.8"
  }
 },
 "nbformat": 4,
 "nbformat_minor": 4
}
