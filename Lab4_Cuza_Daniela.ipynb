{
 "cells": [
  {
   "cell_type": "markdown",
   "metadata": {
    "deletable": false,
    "editable": false
   },
   "source": [
    "<div class=\"alert alert-block alert-success\">\n",
    "    <b>ARTIFICIAL INTELLIGENCE (E016330)</b> <br>\n",
    "ALEKSANDRA PIZURICA <br>\n",
    "GHENT UNIVERSITY <br>\n",
    "AY 2022/2023 <br>\n",
    "Assistent: Srdan Lazendic\n",
    "</div>"
   ]
  },
  {
   "cell_type": "markdown",
   "metadata": {},
   "source": [
    "### Lab assignment 3: Will a patient have a 10 year risk of developing a cardio vascular diseases?"
   ]
  },
  {
   "cell_type": "markdown",
   "metadata": {},
   "source": [
    "The `framingham.csv` file contains medical data from an ongoing cardiovascular study on residents of the town of Framingham, Massachusetts, who participated in cardiovascular disease prevention trials. The classification goal is to predict whether the patient has 10-year risk of future coronary heart disease (CHD). The set contains 15 attributes that combine the sociological and medical characteristics of the respondents, such as age, gender, body mass index, blood sugar concentration and others. Each attribute is a potential risk factor. It is necessary to make a classifier that can predict the occurrence of heart problems based on these data. Information on the occurrence of subjects' heart problems was recorded at the level of the TenYearCHD attribute."
   ]
  },
  {
   "cell_type": "code",
   "execution_count": 65,
   "metadata": {},
   "outputs": [],
   "source": [
    "import numpy as np\n",
    "import pandas as pd\n",
    "from matplotlib import pyplot as plt\n",
    "import seaborn as sns"
   ]
  },
  {
   "cell_type": "code",
   "execution_count": 66,
   "metadata": {},
   "outputs": [],
   "source": [
    "from sklearn import linear_model\n",
    "from sklearn import preprocessing\n",
    "from sklearn import model_selection\n",
    "from sklearn.preprocessing import MinMaxScaler\n",
    "from sklearn import metrics\n",
    "from sklearn import tree\n",
    "from sklearn.feature_selection import SelectKBest\n",
    "from sklearn.feature_selection import chi2\n",
    "from sklearn.metrics import confusion_matrix"
   ]
  },
  {
   "cell_type": "markdown",
   "metadata": {},
   "source": [
    "**Question 1:** Load the data contained in the `framingham.csv` file. "
   ]
  },
  {
   "cell_type": "code",
   "execution_count": 67,
   "metadata": {},
   "outputs": [],
   "source": [
    "data = pd.read_csv('framingham.csv')"
   ]
  },
  {
   "cell_type": "markdown",
   "metadata": {},
   "source": [
    "**Question 2:** Print the shape of the data, type of the data and first 3 rows. "
   ]
  },
  {
   "cell_type": "code",
   "execution_count": 68,
   "metadata": {},
   "outputs": [
    {
     "name": "stdout",
     "output_type": "stream",
     "text": [
      "(4238, 16)\n"
     ]
    }
   ],
   "source": [
    "print(data.shape)"
   ]
  },
  {
   "cell_type": "code",
   "execution_count": 69,
   "metadata": {},
   "outputs": [
    {
     "name": "stdout",
     "output_type": "stream",
     "text": [
      "male                 int64\n",
      "age                  int64\n",
      "education          float64\n",
      "currentSmoker        int64\n",
      "cigsPerDay         float64\n",
      "BPMeds             float64\n",
      "prevalentStroke      int64\n",
      "prevalentHyp         int64\n",
      "diabetes             int64\n",
      "totChol            float64\n",
      "sysBP              float64\n",
      "diaBP              float64\n",
      "BMI                float64\n",
      "heartRate          float64\n",
      "glucose            float64\n",
      "TenYearCHD           int64\n",
      "dtype: object\n"
     ]
    }
   ],
   "source": [
    "print(data.dtypes)"
   ]
  },
  {
   "cell_type": "code",
   "execution_count": 70,
   "metadata": {},
   "outputs": [
    {
     "name": "stdout",
     "output_type": "stream",
     "text": [
      "   male  age  education  currentSmoker  cigsPerDay  BPMeds  prevalentStroke  \\\n",
      "0     1   39        4.0              0         0.0     0.0                0   \n",
      "1     0   46        2.0              0         0.0     0.0                0   \n",
      "2     1   48        1.0              1        20.0     0.0                0   \n",
      "\n",
      "   prevalentHyp  diabetes  totChol  sysBP  diaBP    BMI  heartRate  glucose  \\\n",
      "0             0         0    195.0  106.0   70.0  26.97       80.0     77.0   \n",
      "1             0         0    250.0  121.0   81.0  28.73       95.0     76.0   \n",
      "2             0         0    245.0  127.5   80.0  25.34       75.0     70.0   \n",
      "\n",
      "   TenYearCHD  \n",
      "0           0  \n",
      "1           0  \n",
      "2           0  \n"
     ]
    }
   ],
   "source": [
    "print(data.head(3))"
   ]
  },
  {
   "cell_type": "markdown",
   "metadata": {},
   "source": [
    "**Question 3:** Check for duplicates and missing values in the data. Drop all rows that contain at least one missing value. Check again the shape of your data."
   ]
  },
  {
   "cell_type": "code",
   "execution_count": 71,
   "metadata": {},
   "outputs": [
    {
     "name": "stdout",
     "output_type": "stream",
     "text": [
      "0\n"
     ]
    }
   ],
   "source": [
    "duplicates = data.duplicated()\n",
    "print(duplicates.sum())"
   ]
  },
  {
   "cell_type": "code",
   "execution_count": 72,
   "metadata": {},
   "outputs": [
    {
     "name": "stdout",
     "output_type": "stream",
     "text": [
      "male                 0\n",
      "age                  0\n",
      "education          105\n",
      "currentSmoker        0\n",
      "cigsPerDay          29\n",
      "BPMeds              53\n",
      "prevalentStroke      0\n",
      "prevalentHyp         0\n",
      "diabetes             0\n",
      "totChol             50\n",
      "sysBP                0\n",
      "diaBP                0\n",
      "BMI                 19\n",
      "heartRate            1\n",
      "glucose            388\n",
      "TenYearCHD           0\n",
      "dtype: int64\n"
     ]
    }
   ],
   "source": [
    "missing = data.isnull().sum()\n",
    "print(missing)"
   ]
  },
  {
   "cell_type": "code",
   "execution_count": 73,
   "metadata": {},
   "outputs": [],
   "source": [
    "data = data.dropna()"
   ]
  },
  {
   "cell_type": "code",
   "execution_count": 74,
   "metadata": {},
   "outputs": [
    {
     "name": "stdout",
     "output_type": "stream",
     "text": [
      "(3656, 16)\n"
     ]
    }
   ],
   "source": [
    "print(data.shape)"
   ]
  },
  {
   "cell_type": "markdown",
   "metadata": {},
   "source": [
    "**Question 4:** Check which features are correlated with each other and with the outcome variable `TenYearCHD`. Create a `seaborn` correlation heatmap. "
   ]
  },
  {
   "cell_type": "code",
   "execution_count": 75,
   "metadata": {},
   "outputs": [
    {
     "name": "stdout",
     "output_type": "stream",
     "text": [
      "                     male       age  education  currentSmoker  cigsPerDay  \\\n",
      "male             1.000000 -0.024387   0.017677       0.206778    0.331243   \n",
      "age             -0.024387  1.000000  -0.158961      -0.210862   -0.189099   \n",
      "education        0.017677 -0.158961   1.000000       0.025253    0.013527   \n",
      "currentSmoker    0.206778 -0.210862   0.025253       1.000000    0.773819   \n",
      "cigsPerDay       0.331243 -0.189099   0.013527       0.773819    1.000000   \n",
      "BPMeds          -0.052128  0.134670  -0.013647      -0.051936   -0.046479   \n",
      "prevalentStroke -0.002308  0.050864  -0.030353      -0.038159   -0.036283   \n",
      "prevalentHyp     0.000806  0.306693  -0.079100      -0.107561   -0.069890   \n",
      "diabetes         0.013833  0.109027  -0.039547      -0.041859   -0.036934   \n",
      "totChol         -0.070229  0.267764  -0.012956      -0.051119   -0.030222   \n",
      "sysBP           -0.045484  0.388551  -0.124511      -0.134371   -0.094764   \n",
      "diaBP            0.051575  0.208880  -0.058502      -0.115748   -0.056650   \n",
      "BMI              0.072867  0.137172  -0.137280      -0.159574   -0.086888   \n",
      "heartRate       -0.114923 -0.002685  -0.064254       0.050452    0.063549   \n",
      "glucose          0.003048  0.118245  -0.031874      -0.053346   -0.053803   \n",
      "TenYearCHD       0.091745  0.233810  -0.063068       0.019176    0.052159   \n",
      "\n",
      "                   BPMeds  prevalentStroke  prevalentHyp  diabetes   totChol  \\\n",
      "male            -0.052128        -0.002308      0.000806  0.013833 -0.070229   \n",
      "age              0.134670         0.050864      0.306693  0.109027  0.267764   \n",
      "education       -0.013647        -0.030353     -0.079100 -0.039547 -0.012956   \n",
      "currentSmoker   -0.051936        -0.038159     -0.107561 -0.041859 -0.051119   \n",
      "cigsPerDay      -0.046479        -0.036283     -0.069890 -0.036934 -0.030222   \n",
      "BPMeds           1.000000         0.113119      0.263047  0.049051  0.094011   \n",
      "prevalentStroke  0.113119         1.000000      0.066098  0.009619  0.012697   \n",
      "prevalentHyp     0.263047         0.066098      1.000000  0.080623  0.167074   \n",
      "diabetes         0.049051         0.009619      0.080623  1.000000  0.048371   \n",
      "totChol          0.094011         0.012697      0.167074  0.048371  1.000000   \n",
      "sysBP            0.271291         0.061080      0.697790  0.102574  0.220130   \n",
      "diaBP            0.199750         0.055878      0.617634  0.050767  0.174986   \n",
      "BMI              0.105603         0.036478      0.302917  0.088970  0.120799   \n",
      "heartRate        0.012894        -0.017020      0.147333  0.060996  0.093057   \n",
      "glucose          0.054210         0.016051      0.087129  0.614817  0.049749   \n",
      "TenYearCHD       0.089116         0.048351      0.181556  0.093397  0.091127   \n",
      "\n",
      "                    sysBP     diaBP       BMI  heartRate   glucose  TenYearCHD  \n",
      "male            -0.045484  0.051575  0.072867  -0.114923  0.003048    0.091745  \n",
      "age              0.388551  0.208880  0.137172  -0.002685  0.118245    0.233810  \n",
      "education       -0.124511 -0.058502 -0.137280  -0.064254 -0.031874   -0.063068  \n",
      "currentSmoker   -0.134371 -0.115748 -0.159574   0.050452 -0.053346    0.019176  \n",
      "cigsPerDay      -0.094764 -0.056650 -0.086888   0.063549 -0.053803    0.052159  \n",
      "BPMeds           0.271291  0.199750  0.105603   0.012894  0.054210    0.089116  \n",
      "prevalentStroke  0.061080  0.055878  0.036478  -0.017020  0.016051    0.048351  \n",
      "prevalentHyp     0.697790  0.617634  0.302917   0.147333  0.087129    0.181556  \n",
      "diabetes         0.102574  0.050767  0.088970   0.060996  0.614817    0.093397  \n",
      "totChol          0.220130  0.174986  0.120799   0.093057  0.049749    0.091127  \n",
      "sysBP            1.000000  0.786727  0.331004   0.184901  0.134702    0.222885  \n",
      "diaBP            0.786727  1.000000  0.385611   0.179008  0.063704    0.150342  \n",
      "BMI              0.331004  0.385611  1.000000   0.074401  0.083671    0.081931  \n",
      "heartRate        0.184901  0.179008  0.074401   1.000000  0.097026    0.020523  \n",
      "glucose          0.134702  0.063704  0.083671   0.097026  1.000000    0.121942  \n",
      "TenYearCHD       0.222885  0.150342  0.081931   0.020523  0.121942    1.000000  \n"
     ]
    },
    {
     "data": {
      "image/png": "[encoded data removed]",
      "text/plain": [
       "<Figure size 432x288 with 2 Axes>"
      ]
     },
     "metadata": {
      "needs_background": "light"
     },
     "output_type": "display_data"
    }
   ],
   "source": [
    "corr = data.corr()\n",
    "print(corr)\n",
    "sns.heatmap(corr)\n",
    "plt.show()"
   ]
  },
  {
   "cell_type": "markdown",
   "metadata": {},
   "source": [
    "**Question 5:** What can we conclude based on the obtained `Heatmap` in **Question 4**? Which column can be dropped from the data? Explain your reasoning. Afterwards, drop the column you find irrelevant."
   ]
  },
  {
   "cell_type": "raw",
   "metadata": {},
   "source": [
    "By looking to the obtained Heatmap, we can notice that:\n",
    "\n",
    "There are some variables in the data that have strong relationships with each other, such as those that measure similar or related concepts. These variables may be redundant and can potentially be removed from the data. On the other hand, there are also variables that show strong correlations with the target variable, which may be important for predicting heart disease and should be considered for inclusion in the model. Finally, there are some variables that have weak correlations with the target variable, and these may have less impact on the outcome and may not be as important for prediction.\n",
    "\n",
    "In particular, we can observe that: \n",
    "    -sysBP and diaBP show a high correlation,in particular the Pearson correlation coefficient is 0.91. I decided to drop one of this colums.\n"
   ]
  },
  {
   "cell_type": "code",
   "execution_count": 76,
   "metadata": {},
   "outputs": [],
   "source": [
    "data = data.drop(columns=['sysBP'])"
   ]
  },
  {
   "cell_type": "markdown",
   "metadata": {},
   "source": [
    "**Question 6:** Show a bar chart comparing proportion of male and female patients, i.e., show the patient statistics by gender."
   ]
  },
  {
   "cell_type": "code",
   "execution_count": 77,
   "metadata": {},
   "outputs": [
    {
     "data": {
      "image/png": "[encoded data removed]",
      "text/plain": [
       "<Figure size 432x288 with 1 Axes>"
      ]
     },
     "metadata": {
      "needs_background": "light"
     },
     "output_type": "display_data"
    }
   ],
   "source": [
    "\n",
    "ax = sns.countplot(x='male', data=data)\n",
    "ax.set(xticklabels = ([\"Female\", \"Male\"]))\n",
    "\n",
    "plt.title(\"Patient Statistics by Gender\")\n",
    "plt.xlabel(\"Gender\")\n",
    "plt.ylabel(\"Number of Patients\")\n",
    "\n",
    "# Show the plot\n",
    "plt.show()"
   ]
  },
  {
   "cell_type": "markdown",
   "metadata": {},
   "source": [
    "**Question 7:** Identify the features with the most importance for the outcome variable `TenYearCHD`. Apply `SelectKBest` class to extract top $10$ most impactful features for the target variable. Visualize the selected features by using `bar chart` and create a new dataframe, named `data_ten`, with selected features. Note that you should have a dataframe with $11$ columns!"
   ]
  },
  {
   "cell_type": "code",
   "execution_count": 86,
   "metadata": {},
   "outputs": [
    {
     "data": {
      "image/png": "[encoded data removed]",
      "text/plain": [
       "<Figure size 432x288 with 1 Axes>"
      ]
     },
     "metadata": {
      "needs_background": "light"
     },
     "output_type": "display_data"
    }
   ],
   "source": [
    "\n",
    "X = data.drop(columns=['TenYearCHD'])  \n",
    "y = data['TenYearCHD'] \n",
    "\n",
    "# Use SelectKBest to select the top 10 most impactful features\n",
    "selector = SelectKBest(chi2, k=10)\n",
    "X_new = selector.fit_transform(X, y)\n",
    "\n",
    "# Create a new dataframe \n",
    "data_ten = pd.concat([pd.DataFrame(X_new), y], axis=1)\n",
    "\n",
    "names = X.columns.values[selector.get_support()]\n",
    "\n",
    "scores = selector.scores_[selector.get_support()]\n",
    "\n",
    "\n",
    "#Plot the result\n",
    "fig, ax = plt.subplots()\n",
    "\n",
    "\n",
    "x = names\n",
    "y = scores\n",
    "\n",
    "\n",
    "ax.bar(x, y)\n",
    "\n",
    "\n",
    "ax.set_title('Feature scores')\n",
    "ax.set_xlabel('Feature name')\n",
    "ax.set_ylabel('Score')\n",
    "\n",
    "plt.xticks(rotation=90)\n",
    "\n",
    "# Show the plot\n",
    "plt.show()"
   ]
  },
  {
   "cell_type": "markdown",
   "metadata": {},
   "source": [
    "**Question 8:** Since we want to try out different models we need to scale our features. Do this in the following line by using the `MinMaxScaler`. "
   ]
  },
  {
   "cell_type": "code",
   "execution_count": 87,
   "metadata": {},
   "outputs": [],
   "source": [
    "\n",
    "X = data.drop(columns=['TenYearCHD']) \n",
    "y = data['TenYearCHD']  \n",
    "\n",
    "scaler = MinMaxScaler()\n",
    "\n",
    "\n",
    "X_scaled = scaler.fit_transform(X)\n",
    "\n"
   ]
  },
  {
   "cell_type": "markdown",
   "metadata": {},
   "source": [
    "**Question 9:** Extract the value of the target variable `TenYearCHD`, which predicts the possibility of disease in the next $10$  years, and then divide the data into a training set and a test set in the ratio $4:1$. When dividing the data, take into account the stratification. Explain shortly, in words, why the stratification is important. Set the `random_state` parameter to  $5$."
   ]
  },
  {
   "cell_type": "code",
   "execution_count": 88,
   "metadata": {},
   "outputs": [],
   "source": [
    "from sklearn.model_selection import train_test_split\n",
    "\n",
    "y = data['TenYearCHD']\n",
    "\n",
    "X_train, X_test, y_train, y_test = train_test_split(X, y, test_size=0.2, random_state=5, stratify=y)"
   ]
  },
  {
   "cell_type": "code",
   "execution_count": 89,
   "metadata": {},
   "outputs": [],
   "source": [
    "#Stratification is a technique employed to ensure that the training and test sets for a\n",
    "#model are representative of the overall distribution of the target variable, \n",
    "#particularly when the target variable is imbalanced. This is useful because an \n",
    "#imbalanced distribution of the target variable can lead to a biased model that has a badn performance\n",
    "#on certain classes. Stratification is important to mitigate this issue by ensuring that\n",
    "#the training and test sets have a similar distribution of the target variable as the overall dataset.\n"
   ]
  },
  {
   "cell_type": "markdown",
   "metadata": {},
   "source": [
    "**Question 10:** In the previous notebook, we have already explained and tested different `linear regression` models. Choose one of the linear regression models and train it on the data prepared in the previous step, if possible. Now do the same with the `Logistic Regression` model, i.e., create and train a `logistic regression` model with weights $1$  and $4$  that, respectively, correspond to classes $0$ and $1$. \n",
    "- What can you conclude based on the obtained results with the two models? Are both of them suitable? Shortly explain your reasoning. \n",
    "- Take now the default setting in your `Logistic Regression` model. What do you observe?\n",
    "- What does the `F1` score tell you in this case?"
   ]
  },
  {
   "cell_type": "code",
   "execution_count": 90,
   "metadata": {},
   "outputs": [
    {
     "name": "stdout",
     "output_type": "stream",
     "text": [
      "[ 4.75871349e-02  8.81685254e-03 -5.08424048e-03  1.03546337e-02\n",
      "  2.07687765e-03  2.60557107e-02  1.19251296e-01  4.94637838e-02\n",
      " -1.89715190e-02  9.13688800e-05  1.42748684e-03  1.57260282e-03\n",
      " -1.82310842e-04  1.23900142e-03]\n",
      "MAE: 0.235\n",
      "MSE: 0.115\n",
      "R2 Score: 0.110\n"
     ]
    }
   ],
   "source": [
    "from sklearn.linear_model import LinearRegression\n",
    "from sklearn.metrics import mean_absolute_error, mean_squared_error, r2_score\n",
    "\n",
    "\n",
    "linear_regression = LinearRegression()\n",
    "\n",
    "linear_regression.fit(X_train, y_train)\n",
    "\n",
    "y_pred = linear_regression.predict(X_test)\n",
    "\n",
    "print(linear_regression.coef_)\n",
    "\n",
    "mae = mean_absolute_error(y_test, y_pred)\n",
    "mse = mean_squared_error(y_test, y_pred)\n",
    "r2 = r2_score(y_test, y_pred)\n",
    "\n",
    "print(f'MAE: {mae:.3f}')\n",
    "print(f'MSE: {mse:.3f}')\n",
    "print(f'R2 Score: {r2:.3f}')\n"
   ]
  },
  {
   "cell_type": "code",
   "execution_count": 91,
   "metadata": {},
   "outputs": [
    {
     "name": "stdout",
     "output_type": "stream",
     "text": [
      "[[ 0.46239096  0.07575384 -0.06381186  0.14392212  0.01537781  0.19088105\n",
      "   0.56623331  0.33377588 -0.26991066  0.00214644  0.0123901   0.01912272\n",
      "  -0.00217944  0.00786477]]\n",
      "F1 Score: 0.392\n"
     ]
    }
   ],
   "source": [
    "from sklearn.linear_model import LogisticRegression\n",
    "from sklearn.metrics import f1_score\n",
    "\n",
    "\n",
    "logistic_regression = LogisticRegression(class_weight={0: 1, 1: 4},max_iter=10000)\n",
    "\n",
    "logistic_regression.fit(X_train, y_train)\n",
    "\n",
    "print(logistic_regression.coef_)\n",
    "\n",
    "y_pred = logistic_regression.predict(X_test)\n",
    "\n",
    "f1 = f1_score(y_test, y_pred)\n",
    "\n",
    "\n",
    "print(f'F1 Score: {f1:.3f}')"
   ]
  },
  {
   "cell_type": "code",
   "execution_count": 92,
   "metadata": {},
   "outputs": [],
   "source": [
    "#Logistic Regression is more suitable for our application with respect to linear regression,\n",
    "#since the final goal of our task is to predicting binary outcomes.\n",
    "#I observe a higher performance with class weights in the logistic regression model, \n",
    "#this means that the class weights are helping to balance the class distribution in the dataset, \n",
    "#which is imbalanced."
   ]
  },
  {
   "cell_type": "markdown",
   "metadata": {},
   "source": [
    "**Question 11:** Imbalanced data refers to those types of datasets where the target class has an uneven distribution of observations, i.e., one class label has a very high number of observations and the other has a very low number of observations.\n",
    "- Is there a class imbalance in our case? Has the dataset been split evenly by class? Use the `value_counts` function.\n",
    "- Visualize the classes by using the `countplot` function inside of `seaborn`."
   ]
  },
  {
   "cell_type": "code",
   "execution_count": 93,
   "metadata": {},
   "outputs": [
    {
     "name": "stderr",
     "output_type": "stream",
     "text": [
      "C:\\Users\\danie\\anaconda3\\lib\\site-packages\\seaborn\\_decorators.py:36: FutureWarning: Pass the following variable as a keyword arg: x. From version 0.12, the only valid positional argument will be `data`, and passing other arguments without an explicit keyword will result in an error or misinterpretation.\n",
      "  warnings.warn(\n"
     ]
    },
    {
     "data": {
      "text/plain": [
       "<AxesSubplot:xlabel='TenYearCHD', ylabel='count'>"
      ]
     },
     "execution_count": 93,
     "metadata": {},
     "output_type": "execute_result"
    },
    {
     "data": {
      "image/png": "[encoded data removed]",
      "text/plain": [
       "<Figure size 432x288 with 1 Axes>"
      ]
     },
     "metadata": {
      "needs_background": "light"
     },
     "output_type": "display_data"
    }
   ],
   "source": [
    "class_counts = y.value_counts()\n",
    "\n",
    "sns.countplot(y)"
   ]
  },
  {
   "cell_type": "raw",
   "metadata": {},
   "source": [
    "From the plot we can observe a very imbalanced dataset, in fact the label \"0\" is present more than 3000 times and the label \"1\" approximately 500 times"
   ]
  },
  {
   "cell_type": "markdown",
   "metadata": {},
   "source": [
    "There are different techniques that can be used to handle imbalanced datasets:\n",
    "- Use the right evaluation metrics that take class imbalance into account \n",
    "- Resample the training set \n",
    "- Use K-fold Cross-Validation \n",
    "- Ensemble Different Resampled Datasets$\\dots$\n",
    "\n",
    "In this notebook we will consider the method of resampling, more specifically, data undersampling or oversampling (or both), which will allow us to obtain the equal number of instances from both the majority and minority class. "
   ]
  },
  {
   "cell_type": "markdown",
   "metadata": {},
   "source": [
    "**Question 12:** Interesting results may be achieved by combining both oversampling and undersampling. This can result in improved overall performance compared to performing one or the other techniques alone. In order to combine oversampling we will use [SMOTETomek](https://imbalanced-learn.org/stable/references/generated/imblearn.combine.SMOTETomek.html#imblearn.combine.SMOTETomek) which combines the oversampling technique [SMOTE](https://imbalanced-learn.org/stable/references/generated/imblearn.over_sampling.SMOTE.html) and undersampling technique [TomekLinks](https://imbalanced-learn.org/stable/references/generated/imblearn.under_sampling.TomekLinks.html).\n",
    "\n",
    "- Explain in words what the advantage of combining both over- and under-sampling could be, compared to using one of them individually. \n",
    "- Perform the combination of over- and under-sampling by using `SMOTETomek`. Afterwards, save the obtained dataset as a `DataFrame` called **data_new**. \n",
    "- Visualize the classes again by using the `countplot` function."
   ]
  },
  {
   "cell_type": "code",
   "execution_count": 94,
   "metadata": {},
   "outputs": [],
   "source": [
    "# First time uncomment this line and install imblearn\n",
    "from imblearn.combine import SMOTETomek"
   ]
  },
  {
   "cell_type": "raw",
   "metadata": {},
   "source": [
    "Over-sampling consists in the generation of synthetic samples of the class which is the minority.This is a useful technique for class imbalanced but some times can lead in overfitting.\n",
    "\n",
    "Under-sampling involves reducing the number of samples in the majority class to bring it closer in balance with the minority class. This is a useful technique for class imbalced under-sampling but sometimes can  lead to a loss of significant information.\n",
    "\n",
    "The combination of over- and under-sampling techniques is very important for dealing with imbalanced datasets without the risk of overfitting or losing important information.\n"
   ]
  },
  {
   "cell_type": "code",
   "execution_count": 97,
   "metadata": {},
   "outputs": [
    {
     "name": "stderr",
     "output_type": "stream",
     "text": [
      "C:\\Users\\danie\\anaconda3\\lib\\site-packages\\seaborn\\_decorators.py:36: FutureWarning: Pass the following variable as a keyword arg: x. From version 0.12, the only valid positional argument will be `data`, and passing other arguments without an explicit keyword will result in an error or misinterpretation.\n",
      "  warnings.warn(\n"
     ]
    },
    {
     "data": {
      "text/plain": [
       "<AxesSubplot:xlabel='target', ylabel='count'>"
      ]
     },
     "execution_count": 97,
     "metadata": {},
     "output_type": "execute_result"
    },
    {
     "data": {
      "image/png": "[encoded data removed]",
      "text/plain": [
       "<Figure size 432x288 with 1 Axes>"
      ]
     },
     "metadata": {
      "needs_background": "light"
     },
     "output_type": "display_data"
    }
   ],
   "source": [
    "\n",
    "smt = SMOTETomek()\n",
    "\n",
    "X_resampled, y_resampled = smt.fit_resample(X_train, y_train)\n",
    "\n",
    "data_new = pd.DataFrame(data=X_resampled, columns=X_train.columns)\n",
    "\n",
    "data_new['target'] = y_resampled\n",
    "\n",
    "sns.countplot(data_new['target'])"
   ]
  },
  {
   "cell_type": "markdown",
   "metadata": {},
   "source": [
    "**Question 13:** Extract the value of the target variable `TenYearCHD` from the **data_new** `DataFrame`, and divide again the data into a training set and a test set in the ratio $4:1$. Create and train a `logistic regression` model on this balanced dataset. What do you observe compared to the previous `LogisticRegression` model from **Question 10**?"
   ]
  },
  {
   "cell_type": "code",
   "execution_count": 98,
   "metadata": {},
   "outputs": [
    {
     "name": "stdout",
     "output_type": "stream",
     "text": [
      "0.5043914680050188\n"
     ]
    }
   ],
   "source": [
    "\n",
    "y = data_new['target']\n",
    "\n",
    "X = data_new.drop('target', axis=1)\n",
    "\n",
    "X_train, X_test, y_train, y_test = train_test_split(X, y, test_size=0.2, random_state=42 )\n",
    "\n",
    "model = LogisticRegression(max_iter=10000)\n",
    "\n",
    "\n",
    "model.fit(X_train, y_train)\n",
    "\n",
    "y_pred = logistic_regression.predict(X_test)\n",
    "\n",
    "f1 = f1_score(y_test, y_pred)\n",
    "print(f1)"
   ]
  },
  {
   "cell_type": "code",
   "execution_count": 99,
   "metadata": {},
   "outputs": [],
   "source": [
    "# in this case I obtain an higher f1 score, because the class are more balanced, so the performance is higher"
   ]
  },
  {
   "cell_type": "markdown",
   "metadata": {},
   "source": [
    "**Question 14:** Now we will use the `DecisionTreeClassifier` function.\n",
    "\n",
    "- Perform now a decision tree training by choosing the attribute selection measure and split strategy yourself, as well as the maximum depth of the three.\n",
    "- Calculate the `accuracy` and the `F1 score` of the obtained decision tree model.\n",
    "- Plot the corresponding confusion matrix. What does it tell us? Explain it shortly."
   ]
  },
  {
   "cell_type": "code",
   "execution_count": 103,
   "metadata": {},
   "outputs": [
    {
     "name": "stdout",
     "output_type": "stream",
     "text": [
      "Accuracy: 0.6499488229273286\n",
      "F1 score: 0.6724137931034482\n"
     ]
    }
   ],
   "source": [
    "from sklearn.metrics import accuracy_score, f1_score\n",
    "from sklearn.tree import DecisionTreeClassifier\n",
    "# Create an instance of the DecisionTreeClassifier class\n",
    "clf = DecisionTreeClassifier(criterion='entropy', max_features=0.9, splitter='best', max_depth=3, random_state=7)\n",
    " \n",
    "# Fit the classifier to the training data\n",
    "clf.fit(X_train, y_train)\n",
    "\n",
    "# Make predictions on the test data\n",
    "y_pred = clf.predict(X_test)\n",
    "\n",
    "# Calculate the accuracy and F1 score of the model\n",
    "accuracy = clf.score(X_test, y_test)\n",
    "f1_score = f1_score(y_test, y_pred)\n",
    "\n",
    "print(\"Accuracy:\", accuracy)\n",
    "print(\"F1 score:\", f1_score)"
   ]
  },
  {
   "cell_type": "code",
   "execution_count": 104,
   "metadata": {},
   "outputs": [
    {
     "name": "stdout",
     "output_type": "stream",
     "text": [
      "[[284 226]\n",
      " [116 351]]\n"
     ]
    },
    {
     "data": {
      "image/png": "[encoded data removed]",
      "text/plain": [
       "<Figure size 432x288 with 2 Axes>"
      ]
     },
     "metadata": {
      "needs_background": "light"
     },
     "output_type": "display_data"
    }
   ],
   "source": [
    "# Calculate the confusion matrix\n",
    "conf_matrix = confusion_matrix(y_test, y_pred)\n",
    "print(conf_matrix)\n",
    "# Plot the confusion matrix using seaborn\n",
    "sns.heatmap(conf_matrix, annot=True, fmt='d', cmap='Blues')\n",
    "plt.xlabel('Predicted')\n",
    "plt.ylabel('Actual')\n",
    "plt.title('Confusion Matrix')\n",
    "plt.show()"
   ]
  },
  {
   "cell_type": "code",
   "execution_count": null,
   "metadata": {},
   "outputs": [],
   "source": [
    "#The element \"284\" in the matrix indicates the number of true positives. \n",
    "\n",
    "#The second element, \"226\", indicates the number of false negatives.\n",
    "\n",
    "#The third element in the matrix, \"116\", indicates the number of false positives. \n",
    " \n",
    "#The fourth element, \"351\", indicates the number of true negatives. \n",
    "\n",
    "#By looking to the confusion matrix we cam conlude that the classifier computes a relatively large number of false negatives and \n",
    "#false positives, with respect to the number of true negatives and true positives.This means that the classifier's accuracy \n",
    "#may be improved by adjusting its parameters or using a different approach. It may be worthwhile to try different techniques \n",
    "#to see if the classifier's performance can be improved."
   ]
  }
 ],
 "metadata": {
  "kernelspec": {
   "display_name": "Python 3",
   "language": "python",
   "name": "python3"
  },
  "language_info": {
   "codemirror_mode": {
    "name": "ipython",
    "version": 3
   },
   "file_extension": ".py",
   "mimetype": "text/x-python",
   "name": "python",
   "nbconvert_exporter": "python",
   "pygments_lexer": "ipython3",
   "version": "3.8.8"
  }
 },
 "nbformat": 4,
 "nbformat_minor": 4
}
